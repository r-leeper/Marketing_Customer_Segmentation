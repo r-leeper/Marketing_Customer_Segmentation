{
 "cells": [
  {
   "cell_type": "markdown",
   "source": [
    "# PCA and K-Means Clustering"
   ],
   "metadata": {
    "collapsed": false
   },
   "id": "d7e2d0496d1d8768"
  },
  {
   "cell_type": "markdown",
   "source": [
    "In this notebook, we'll use PCA to reduce the dimensionality of the data and (hopefully) get better results than just using K-Means."
   ],
   "metadata": {
    "collapsed": false
   },
   "id": "e6299f0950a241c1"
  },
  {
   "cell_type": "markdown",
   "source": [
    "## Imports and housekeeping"
   ],
   "metadata": {
    "collapsed": false
   },
   "id": "365625942e648481"
  },
  {
   "cell_type": "code",
   "execution_count": 6,
   "outputs": [],
   "source": [
    "# Imports\n",
    "import pandas as pd\n",
    "import numpy as np\n",
    "import matplotlib.pyplot as plt\n",
    "import seaborn as sns\n",
    "from sklearn.preprocessing import RobustScaler\n",
    "from sklearn.decomposition import PCA\n",
    "from sklearn.cluster import KMeans\n",
    "\n",
    "import warnings\n",
    "warnings.filterwarnings('ignore')\n",
    "\n",
    "# Setting for full table display\n",
    "pd.set_option('display.max_columns', None)"
   ],
   "metadata": {
    "collapsed": false,
    "ExecuteTime": {
     "end_time": "2023-11-25T14:59:51.649728885Z",
     "start_time": "2023-11-25T14:59:51.543727749Z"
    }
   },
   "id": "b242a25a17bf85b9"
  },
  {
   "cell_type": "code",
   "execution_count": 7,
   "outputs": [
    {
     "data": {
      "text/plain": "   Income  Recency  MntWines  MntFruits  MntMeatProducts  MntFishProducts  \\\n0   58138       58       635         88              546              172   \n1   46344       38        11          1                6                2   \n2   71613       26       426         49              127              111   \n3   26646       26        11          4               20               10   \n4   58293       94       173         43              118               46   \n\n   MntSweetProducts  MntGoldProds  NumDealsPurchases  NumWebPurchases  \\\n0                88            88                  3                8   \n1                 1             6                  2                1   \n2                21            42                  1                8   \n3                 3             5                  2                2   \n4                27            15                  5                5   \n\n   NumCatalogPurchases  NumStorePurchases  NumWebVisitsMonth  Age  \\\n0                   10                  4                  7   57   \n1                    1                  2                  5   60   \n2                    2                 10                  4   49   \n3                    0                  4                  6   30   \n4                    3                  6                  5   33   \n\n   EducationOrdinalEncoded  Relationship_InRelationship  \\\n0                        2                            0   \n1                        2                            0   \n2                        2                            1   \n3                        2                            1   \n4                        5                            1   \n\n   Relationship_NotInRelationship  Relationship_Undefined  ChildrenHome  \\\n0                               1                       0             0   \n1                               1                       0             1   \n2                               0                       0             0   \n3                               0                       0             1   \n4                               0                       0             1   \n\n   RegencyInMonths  TotalSpent  DealSeeker  BuyerType_CatalogueBuyer  \\\n0               32        1617           1                         1   \n1                5          27           0                         0   \n2               16         776           0                         0   \n3                3          53           0                         0   \n4               11         422           1                         0   \n\n   BuyerType_MixedBuyer  BuyerType_StoreBuyer  BuyerType_WebBuyer  \\\n0                     0                     0                   0   \n1                     0                     1                   0   \n2                     0                     1                   0   \n3                     0                     1                   0   \n4                     0                     1                   0   \n\n   VisitedWebsiteRecently  AcceptedOffer  \n0                       1              1  \n1                       1              0  \n2                       1              0  \n3                       1              0  \n4                       1              0  ",
      "text/html": "<div>\n<style scoped>\n    .dataframe tbody tr th:only-of-type {\n        vertical-align: middle;\n    }\n\n    .dataframe tbody tr th {\n        vertical-align: top;\n    }\n\n    .dataframe thead th {\n        text-align: right;\n    }\n</style>\n<table border=\"1\" class=\"dataframe\">\n  <thead>\n    <tr style=\"text-align: right;\">\n      <th></th>\n      <th>Income</th>\n      <th>Recency</th>\n      <th>MntWines</th>\n      <th>MntFruits</th>\n      <th>MntMeatProducts</th>\n      <th>MntFishProducts</th>\n      <th>MntSweetProducts</th>\n      <th>MntGoldProds</th>\n      <th>NumDealsPurchases</th>\n      <th>NumWebPurchases</th>\n      <th>NumCatalogPurchases</th>\n      <th>NumStorePurchases</th>\n      <th>NumWebVisitsMonth</th>\n      <th>Age</th>\n      <th>EducationOrdinalEncoded</th>\n      <th>Relationship_InRelationship</th>\n      <th>Relationship_NotInRelationship</th>\n      <th>Relationship_Undefined</th>\n      <th>ChildrenHome</th>\n      <th>RegencyInMonths</th>\n      <th>TotalSpent</th>\n      <th>DealSeeker</th>\n      <th>BuyerType_CatalogueBuyer</th>\n      <th>BuyerType_MixedBuyer</th>\n      <th>BuyerType_StoreBuyer</th>\n      <th>BuyerType_WebBuyer</th>\n      <th>VisitedWebsiteRecently</th>\n      <th>AcceptedOffer</th>\n    </tr>\n  </thead>\n  <tbody>\n    <tr>\n      <th>0</th>\n      <td>58138</td>\n      <td>58</td>\n      <td>635</td>\n      <td>88</td>\n      <td>546</td>\n      <td>172</td>\n      <td>88</td>\n      <td>88</td>\n      <td>3</td>\n      <td>8</td>\n      <td>10</td>\n      <td>4</td>\n      <td>7</td>\n      <td>57</td>\n      <td>2</td>\n      <td>0</td>\n      <td>1</td>\n      <td>0</td>\n      <td>0</td>\n      <td>32</td>\n      <td>1617</td>\n      <td>1</td>\n      <td>1</td>\n      <td>0</td>\n      <td>0</td>\n      <td>0</td>\n      <td>1</td>\n      <td>1</td>\n    </tr>\n    <tr>\n      <th>1</th>\n      <td>46344</td>\n      <td>38</td>\n      <td>11</td>\n      <td>1</td>\n      <td>6</td>\n      <td>2</td>\n      <td>1</td>\n      <td>6</td>\n      <td>2</td>\n      <td>1</td>\n      <td>1</td>\n      <td>2</td>\n      <td>5</td>\n      <td>60</td>\n      <td>2</td>\n      <td>0</td>\n      <td>1</td>\n      <td>0</td>\n      <td>1</td>\n      <td>5</td>\n      <td>27</td>\n      <td>0</td>\n      <td>0</td>\n      <td>0</td>\n      <td>1</td>\n      <td>0</td>\n      <td>1</td>\n      <td>0</td>\n    </tr>\n    <tr>\n      <th>2</th>\n      <td>71613</td>\n      <td>26</td>\n      <td>426</td>\n      <td>49</td>\n      <td>127</td>\n      <td>111</td>\n      <td>21</td>\n      <td>42</td>\n      <td>1</td>\n      <td>8</td>\n      <td>2</td>\n      <td>10</td>\n      <td>4</td>\n      <td>49</td>\n      <td>2</td>\n      <td>1</td>\n      <td>0</td>\n      <td>0</td>\n      <td>0</td>\n      <td>16</td>\n      <td>776</td>\n      <td>0</td>\n      <td>0</td>\n      <td>0</td>\n      <td>1</td>\n      <td>0</td>\n      <td>1</td>\n      <td>0</td>\n    </tr>\n    <tr>\n      <th>3</th>\n      <td>26646</td>\n      <td>26</td>\n      <td>11</td>\n      <td>4</td>\n      <td>20</td>\n      <td>10</td>\n      <td>3</td>\n      <td>5</td>\n      <td>2</td>\n      <td>2</td>\n      <td>0</td>\n      <td>4</td>\n      <td>6</td>\n      <td>30</td>\n      <td>2</td>\n      <td>1</td>\n      <td>0</td>\n      <td>0</td>\n      <td>1</td>\n      <td>3</td>\n      <td>53</td>\n      <td>0</td>\n      <td>0</td>\n      <td>0</td>\n      <td>1</td>\n      <td>0</td>\n      <td>1</td>\n      <td>0</td>\n    </tr>\n    <tr>\n      <th>4</th>\n      <td>58293</td>\n      <td>94</td>\n      <td>173</td>\n      <td>43</td>\n      <td>118</td>\n      <td>46</td>\n      <td>27</td>\n      <td>15</td>\n      <td>5</td>\n      <td>5</td>\n      <td>3</td>\n      <td>6</td>\n      <td>5</td>\n      <td>33</td>\n      <td>5</td>\n      <td>1</td>\n      <td>0</td>\n      <td>0</td>\n      <td>1</td>\n      <td>11</td>\n      <td>422</td>\n      <td>1</td>\n      <td>0</td>\n      <td>0</td>\n      <td>1</td>\n      <td>0</td>\n      <td>1</td>\n      <td>0</td>\n    </tr>\n  </tbody>\n</table>\n</div>"
     },
     "execution_count": 7,
     "metadata": {},
     "output_type": "execute_result"
    }
   ],
   "source": [
    "# Import data\n",
    "df = pd.read_csv('data/feature_engineered_data.csv')\n",
    "\n",
    "# print the first few rows to confirm the data has been loaded correctly\n",
    "df.head()"
   ],
   "metadata": {
    "collapsed": false,
    "ExecuteTime": {
     "end_time": "2023-11-25T14:59:51.651074257Z",
     "start_time": "2023-11-25T14:59:51.588278565Z"
    }
   },
   "id": "6c234a9e100d5794"
  },
  {
   "cell_type": "code",
   "execution_count": 8,
   "outputs": [],
   "source": [
    "# Copy data\n",
    "df_use = df.copy()"
   ],
   "metadata": {
    "collapsed": false,
    "ExecuteTime": {
     "end_time": "2023-11-25T14:59:51.655268865Z",
     "start_time": "2023-11-25T14:59:51.588460486Z"
    }
   },
   "id": "3480525ef27c4305"
  },
  {
   "cell_type": "markdown",
   "source": [
    "## Standardise"
   ],
   "metadata": {
    "collapsed": false
   },
   "id": "c194e391601a1e02"
  },
  {
   "cell_type": "code",
   "execution_count": 9,
   "outputs": [],
   "source": [
    "# Scaling of continuous features\n",
    "continuous_features = ['Income',\n",
    "                       'Recency',\n",
    "                       'MntWines',\n",
    "                       'MntFruits',\n",
    "                       'MntMeatProducts',\n",
    "                       'MntFishProducts',\n",
    "                       'MntSweetProducts',\n",
    "                       'MntGoldProds',\n",
    "                       'NumDealsPurchases',\n",
    "                       'NumWebPurchases',\n",
    "                       'NumCatalogPurchases',\n",
    "                       'NumStorePurchases',\n",
    "                       'NumWebVisitsMonth',\n",
    "                       'Age',\n",
    "                       'RegencyInMonths',\n",
    "                       'TotalSpent']\n",
    "\n",
    "# Separate binary features\n",
    "continuous_data = df[continuous_features]\n",
    "binary_ord_data = df.drop(continuous_features, axis=1)\n",
    "\n",
    "# Standardize continuous features using RobustScaler\n",
    "scaler_continuous = RobustScaler()\n",
    "scaled_continuous_data = scaler_continuous.fit_transform(df_use[continuous_features])\n",
    "\n",
    "# Combined data\n",
    "final_scaled_data = np.concatenate([scaled_continuous_data, binary_ord_data], axis=1)"
   ],
   "metadata": {
    "collapsed": false,
    "ExecuteTime": {
     "end_time": "2023-11-25T14:59:51.655526304Z",
     "start_time": "2023-11-25T14:59:51.588567834Z"
    }
   },
   "id": "909d7ca839ef4072"
  },
  {
   "cell_type": "code",
   "execution_count": 10,
   "outputs": [
    {
     "data": {
      "text/plain": "array([[ 0.20272663,  0.18      ,  0.96045786, ...,  0.        ,\n         1.        ,  1.        ],\n       [-0.15738451, -0.22      , -0.33818939, ...,  0.        ,\n         1.        ,  0.        ],\n       [ 0.61416445, -0.46      ,  0.52549428, ...,  0.        ,\n         1.        ,  0.        ],\n       ...,\n       [ 0.16739947,  0.84      ,  1.52861602, ...,  0.        ,\n         1.        ,  1.        ],\n       [ 0.54186132, -0.82      ,  0.52965661, ...,  0.        ,\n         1.        ,  0.        ],\n       [ 0.04184605, -0.18      , -0.18626431, ...,  0.        ,\n         1.        ,  1.        ]])"
     },
     "execution_count": 10,
     "metadata": {},
     "output_type": "execute_result"
    }
   ],
   "source": [
    "final_scaled_data"
   ],
   "metadata": {
    "collapsed": false,
    "ExecuteTime": {
     "end_time": "2023-11-25T14:59:51.655917097Z",
     "start_time": "2023-11-25T14:59:51.588814196Z"
    }
   },
   "id": "fa371b49173032cc"
  },
  {
   "cell_type": "markdown",
   "source": [
    "## PCA"
   ],
   "metadata": {
    "collapsed": false
   },
   "id": "8f1087ae4606aa35"
  },
  {
   "cell_type": "code",
   "execution_count": 11,
   "outputs": [],
   "source": [
    "# TODO: Research and implement PCA"
   ],
   "metadata": {
    "collapsed": false,
    "ExecuteTime": {
     "end_time": "2023-11-25T15:05:23.772556096Z",
     "start_time": "2023-11-25T15:05:23.731034069Z"
    }
   },
   "id": "6def0a5dd960a982"
  },
  {
   "cell_type": "code",
   "execution_count": null,
   "outputs": [],
   "source": [],
   "metadata": {
    "collapsed": false
   },
   "id": "d91abbef72ef55e7"
  }
 ],
 "metadata": {
  "kernelspec": {
   "display_name": "Python 3",
   "language": "python",
   "name": "python3"
  },
  "language_info": {
   "codemirror_mode": {
    "name": "ipython",
    "version": 2
   },
   "file_extension": ".py",
   "mimetype": "text/x-python",
   "name": "python",
   "nbconvert_exporter": "python",
   "pygments_lexer": "ipython2",
   "version": "2.7.6"
  }
 },
 "nbformat": 4,
 "nbformat_minor": 5
}
