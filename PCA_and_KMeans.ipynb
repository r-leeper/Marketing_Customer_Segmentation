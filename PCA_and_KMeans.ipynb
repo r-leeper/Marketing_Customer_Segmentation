{
 "cells": [
  {
   "cell_type": "markdown",
   "source": [
    "# PCA and K-Means Clustering"
   ],
   "metadata": {
    "collapsed": false
   },
   "id": "d7e2d0496d1d8768"
  },
  {
   "cell_type": "markdown",
   "source": [
    "In this notebook, we'll use PCA to reduce the dimensionality of the data and (hopefully) get better results than just using K-Means."
   ],
   "metadata": {
    "collapsed": false
   },
   "id": "e6299f0950a241c1"
  },
  {
   "cell_type": "markdown",
   "source": [
    "## Imports and housekeeping"
   ],
   "metadata": {
    "collapsed": false
   },
   "id": "365625942e648481"
  },
  {
   "cell_type": "code",
   "execution_count": 31,
   "outputs": [],
   "source": [
    "# Imports\n",
    "import pandas as pd\n",
    "import numpy as np\n",
    "import matplotlib.pyplot as plt\n",
    "import seaborn as sns\n",
    "from sklearn.preprocessing import RobustScaler\n",
    "from sklearn.decomposition import PCA\n",
    "from sklearn.cluster import KMeans\n",
    "\n",
    "import warnings\n",
    "warnings.filterwarnings('ignore')\n",
    "\n",
    "# Setting for full table display\n",
    "pd.set_option('display.max_columns', None)"
   ],
   "metadata": {
    "collapsed": false,
    "ExecuteTime": {
     "end_time": "2023-11-26T15:36:40.864864358Z",
     "start_time": "2023-11-26T15:36:40.700596951Z"
    }
   },
   "id": "b242a25a17bf85b9"
  },
  {
   "cell_type": "code",
   "execution_count": 32,
   "outputs": [
    {
     "data": {
      "text/plain": "   Income  Recency  MntWines  MntFruits  MntMeatProducts  MntFishProducts  \\\n0   58138       58       635         88              546              172   \n1   46344       38        11          1                6                2   \n2   71613       26       426         49              127              111   \n3   26646       26        11          4               20               10   \n4   58293       94       173         43              118               46   \n\n   MntSweetProducts  MntGoldProds  NumDealsPurchases  NumWebPurchases  \\\n0                88            88                  3                8   \n1                 1             6                  2                1   \n2                21            42                  1                8   \n3                 3             5                  2                2   \n4                27            15                  5                5   \n\n   NumCatalogPurchases  NumStorePurchases  NumWebVisitsMonth  Age  \\\n0                   10                  4                  7   57   \n1                    1                  2                  5   60   \n2                    2                 10                  4   49   \n3                    0                  4                  6   30   \n4                    3                  6                  5   33   \n\n   EducationOrdinalEncoded  Relationship_InRelationship  \\\n0                        2                            0   \n1                        2                            0   \n2                        2                            1   \n3                        2                            1   \n4                        5                            1   \n\n   Relationship_NotInRelationship  Relationship_Undefined  ChildrenHome  \\\n0                               1                       0             0   \n1                               1                       0             1   \n2                               0                       0             0   \n3                               0                       0             1   \n4                               0                       0             1   \n\n   RegencyInMonths  TotalSpent  DealSeeker  BuyerType_CatalogueBuyer  \\\n0               32        1617           1                         1   \n1                5          27           0                         0   \n2               16         776           0                         0   \n3                3          53           0                         0   \n4               11         422           1                         0   \n\n   BuyerType_MixedBuyer  BuyerType_StoreBuyer  BuyerType_WebBuyer  \\\n0                     0                     0                   0   \n1                     0                     1                   0   \n2                     0                     1                   0   \n3                     0                     1                   0   \n4                     0                     1                   0   \n\n   VisitedWebsiteRecently  AcceptedOffer  \n0                       1              1  \n1                       1              0  \n2                       1              0  \n3                       1              0  \n4                       1              0  ",
      "text/html": "<div>\n<style scoped>\n    .dataframe tbody tr th:only-of-type {\n        vertical-align: middle;\n    }\n\n    .dataframe tbody tr th {\n        vertical-align: top;\n    }\n\n    .dataframe thead th {\n        text-align: right;\n    }\n</style>\n<table border=\"1\" class=\"dataframe\">\n  <thead>\n    <tr style=\"text-align: right;\">\n      <th></th>\n      <th>Income</th>\n      <th>Recency</th>\n      <th>MntWines</th>\n      <th>MntFruits</th>\n      <th>MntMeatProducts</th>\n      <th>MntFishProducts</th>\n      <th>MntSweetProducts</th>\n      <th>MntGoldProds</th>\n      <th>NumDealsPurchases</th>\n      <th>NumWebPurchases</th>\n      <th>NumCatalogPurchases</th>\n      <th>NumStorePurchases</th>\n      <th>NumWebVisitsMonth</th>\n      <th>Age</th>\n      <th>EducationOrdinalEncoded</th>\n      <th>Relationship_InRelationship</th>\n      <th>Relationship_NotInRelationship</th>\n      <th>Relationship_Undefined</th>\n      <th>ChildrenHome</th>\n      <th>RegencyInMonths</th>\n      <th>TotalSpent</th>\n      <th>DealSeeker</th>\n      <th>BuyerType_CatalogueBuyer</th>\n      <th>BuyerType_MixedBuyer</th>\n      <th>BuyerType_StoreBuyer</th>\n      <th>BuyerType_WebBuyer</th>\n      <th>VisitedWebsiteRecently</th>\n      <th>AcceptedOffer</th>\n    </tr>\n  </thead>\n  <tbody>\n    <tr>\n      <th>0</th>\n      <td>58138</td>\n      <td>58</td>\n      <td>635</td>\n      <td>88</td>\n      <td>546</td>\n      <td>172</td>\n      <td>88</td>\n      <td>88</td>\n      <td>3</td>\n      <td>8</td>\n      <td>10</td>\n      <td>4</td>\n      <td>7</td>\n      <td>57</td>\n      <td>2</td>\n      <td>0</td>\n      <td>1</td>\n      <td>0</td>\n      <td>0</td>\n      <td>32</td>\n      <td>1617</td>\n      <td>1</td>\n      <td>1</td>\n      <td>0</td>\n      <td>0</td>\n      <td>0</td>\n      <td>1</td>\n      <td>1</td>\n    </tr>\n    <tr>\n      <th>1</th>\n      <td>46344</td>\n      <td>38</td>\n      <td>11</td>\n      <td>1</td>\n      <td>6</td>\n      <td>2</td>\n      <td>1</td>\n      <td>6</td>\n      <td>2</td>\n      <td>1</td>\n      <td>1</td>\n      <td>2</td>\n      <td>5</td>\n      <td>60</td>\n      <td>2</td>\n      <td>0</td>\n      <td>1</td>\n      <td>0</td>\n      <td>1</td>\n      <td>5</td>\n      <td>27</td>\n      <td>0</td>\n      <td>0</td>\n      <td>0</td>\n      <td>1</td>\n      <td>0</td>\n      <td>1</td>\n      <td>0</td>\n    </tr>\n    <tr>\n      <th>2</th>\n      <td>71613</td>\n      <td>26</td>\n      <td>426</td>\n      <td>49</td>\n      <td>127</td>\n      <td>111</td>\n      <td>21</td>\n      <td>42</td>\n      <td>1</td>\n      <td>8</td>\n      <td>2</td>\n      <td>10</td>\n      <td>4</td>\n      <td>49</td>\n      <td>2</td>\n      <td>1</td>\n      <td>0</td>\n      <td>0</td>\n      <td>0</td>\n      <td>16</td>\n      <td>776</td>\n      <td>0</td>\n      <td>0</td>\n      <td>0</td>\n      <td>1</td>\n      <td>0</td>\n      <td>1</td>\n      <td>0</td>\n    </tr>\n    <tr>\n      <th>3</th>\n      <td>26646</td>\n      <td>26</td>\n      <td>11</td>\n      <td>4</td>\n      <td>20</td>\n      <td>10</td>\n      <td>3</td>\n      <td>5</td>\n      <td>2</td>\n      <td>2</td>\n      <td>0</td>\n      <td>4</td>\n      <td>6</td>\n      <td>30</td>\n      <td>2</td>\n      <td>1</td>\n      <td>0</td>\n      <td>0</td>\n      <td>1</td>\n      <td>3</td>\n      <td>53</td>\n      <td>0</td>\n      <td>0</td>\n      <td>0</td>\n      <td>1</td>\n      <td>0</td>\n      <td>1</td>\n      <td>0</td>\n    </tr>\n    <tr>\n      <th>4</th>\n      <td>58293</td>\n      <td>94</td>\n      <td>173</td>\n      <td>43</td>\n      <td>118</td>\n      <td>46</td>\n      <td>27</td>\n      <td>15</td>\n      <td>5</td>\n      <td>5</td>\n      <td>3</td>\n      <td>6</td>\n      <td>5</td>\n      <td>33</td>\n      <td>5</td>\n      <td>1</td>\n      <td>0</td>\n      <td>0</td>\n      <td>1</td>\n      <td>11</td>\n      <td>422</td>\n      <td>1</td>\n      <td>0</td>\n      <td>0</td>\n      <td>1</td>\n      <td>0</td>\n      <td>1</td>\n      <td>0</td>\n    </tr>\n  </tbody>\n</table>\n</div>"
     },
     "execution_count": 32,
     "metadata": {},
     "output_type": "execute_result"
    }
   ],
   "source": [
    "# Import data\n",
    "df = pd.read_csv('data/feature_engineered_data.csv')\n",
    "\n",
    "# print the first few rows to confirm the data has been loaded correctly\n",
    "df.head()"
   ],
   "metadata": {
    "collapsed": false,
    "ExecuteTime": {
     "end_time": "2023-11-26T15:36:40.995975340Z",
     "start_time": "2023-11-26T15:36:40.710881018Z"
    }
   },
   "id": "6c234a9e100d5794"
  },
  {
   "cell_type": "code",
   "execution_count": 33,
   "outputs": [],
   "source": [
    "# Copy data\n",
    "df_use = df.copy()"
   ],
   "metadata": {
    "collapsed": false,
    "ExecuteTime": {
     "end_time": "2023-11-26T15:36:41.033993337Z",
     "start_time": "2023-11-26T15:36:40.761309432Z"
    }
   },
   "id": "3480525ef27c4305"
  },
  {
   "cell_type": "markdown",
   "source": [
    "## Standardise"
   ],
   "metadata": {
    "collapsed": false
   },
   "id": "c194e391601a1e02"
  },
  {
   "cell_type": "code",
   "execution_count": 34,
   "outputs": [],
   "source": [
    "# Scaling of continuous features\n",
    "continuous_features = ['Income',\n",
    "                       'Recency',\n",
    "                       'MntWines',\n",
    "                       'MntFruits',\n",
    "                       'MntMeatProducts',\n",
    "                       'MntFishProducts',\n",
    "                       'MntSweetProducts',\n",
    "                       'MntGoldProds',\n",
    "                       'NumDealsPurchases',\n",
    "                       'NumWebPurchases',\n",
    "                       'NumCatalogPurchases',\n",
    "                       'NumStorePurchases',\n",
    "                       'NumWebVisitsMonth',\n",
    "                       'Age',\n",
    "                       'RegencyInMonths',\n",
    "                       'TotalSpent']\n",
    "\n",
    "# Separate binary features\n",
    "continuous_data = df[continuous_features]\n",
    "binary_ord_data = df.drop(continuous_features, axis=1)"
   ],
   "metadata": {
    "collapsed": false,
    "ExecuteTime": {
     "end_time": "2023-11-26T15:36:41.038571616Z",
     "start_time": "2023-11-26T15:36:40.761428814Z"
    }
   },
   "id": "2c531e6bbe046104"
  },
  {
   "cell_type": "code",
   "execution_count": 35,
   "outputs": [
    {
     "data": {
      "text/plain": "      Income  Recency  MntWines  MntFruits  MntMeatProducts  MntFishProducts  \\\n0      58138       58       635         88              546              172   \n1      46344       38        11          1                6                2   \n2      71613       26       426         49              127              111   \n3      26646       26        11          4               20               10   \n4      58293       94       173         43              118               46   \n...      ...      ...       ...        ...              ...              ...   \n2235   61223       46       709         43              182               42   \n2236   64014       56       406          0               30                0   \n2237   56981       91       908         48              217               32   \n2238   69245        8       428         30              214               80   \n2239   52869       40        84          3               61                2   \n\n      MntSweetProducts  MntGoldProds  NumDealsPurchases  NumWebPurchases  \\\n0                   88            88                  3                8   \n1                    1             6                  2                1   \n2                   21            42                  1                8   \n3                    3             5                  2                2   \n4                   27            15                  5                5   \n...                ...           ...                ...              ...   \n2235               118           247                  2                9   \n2236                 0             8                  7                8   \n2237                12            24                  1                2   \n2238                30            61                  2                6   \n2239                 1            21                  3                3   \n\n      NumCatalogPurchases  NumStorePurchases  NumWebVisitsMonth  Age  \\\n0                      10                  4                  7   57   \n1                       1                  2                  5   60   \n2                       2                 10                  4   49   \n3                       0                  4                  6   30   \n4                       3                  6                  5   33   \n...                   ...                ...                ...  ...   \n2235                    3                  4                  5   47   \n2236                    2                  5                  7   68   \n2237                    3                 13                  6   33   \n2238                    5                 10                  3   58   \n2239                    1                  4                  7   60   \n\n      RegencyInMonths  TotalSpent  \n0                  32        1617  \n1                   5          27  \n2                  16         776  \n3                   3          53  \n4                  11         422  \n...               ...         ...  \n2235               18        1341  \n2236                3         444  \n2237               11        1241  \n2238               11         843  \n2239               26         172  \n\n[2240 rows x 16 columns]",
      "text/html": "<div>\n<style scoped>\n    .dataframe tbody tr th:only-of-type {\n        vertical-align: middle;\n    }\n\n    .dataframe tbody tr th {\n        vertical-align: top;\n    }\n\n    .dataframe thead th {\n        text-align: right;\n    }\n</style>\n<table border=\"1\" class=\"dataframe\">\n  <thead>\n    <tr style=\"text-align: right;\">\n      <th></th>\n      <th>Income</th>\n      <th>Recency</th>\n      <th>MntWines</th>\n      <th>MntFruits</th>\n      <th>MntMeatProducts</th>\n      <th>MntFishProducts</th>\n      <th>MntSweetProducts</th>\n      <th>MntGoldProds</th>\n      <th>NumDealsPurchases</th>\n      <th>NumWebPurchases</th>\n      <th>NumCatalogPurchases</th>\n      <th>NumStorePurchases</th>\n      <th>NumWebVisitsMonth</th>\n      <th>Age</th>\n      <th>RegencyInMonths</th>\n      <th>TotalSpent</th>\n    </tr>\n  </thead>\n  <tbody>\n    <tr>\n      <th>0</th>\n      <td>58138</td>\n      <td>58</td>\n      <td>635</td>\n      <td>88</td>\n      <td>546</td>\n      <td>172</td>\n      <td>88</td>\n      <td>88</td>\n      <td>3</td>\n      <td>8</td>\n      <td>10</td>\n      <td>4</td>\n      <td>7</td>\n      <td>57</td>\n      <td>32</td>\n      <td>1617</td>\n    </tr>\n    <tr>\n      <th>1</th>\n      <td>46344</td>\n      <td>38</td>\n      <td>11</td>\n      <td>1</td>\n      <td>6</td>\n      <td>2</td>\n      <td>1</td>\n      <td>6</td>\n      <td>2</td>\n      <td>1</td>\n      <td>1</td>\n      <td>2</td>\n      <td>5</td>\n      <td>60</td>\n      <td>5</td>\n      <td>27</td>\n    </tr>\n    <tr>\n      <th>2</th>\n      <td>71613</td>\n      <td>26</td>\n      <td>426</td>\n      <td>49</td>\n      <td>127</td>\n      <td>111</td>\n      <td>21</td>\n      <td>42</td>\n      <td>1</td>\n      <td>8</td>\n      <td>2</td>\n      <td>10</td>\n      <td>4</td>\n      <td>49</td>\n      <td>16</td>\n      <td>776</td>\n    </tr>\n    <tr>\n      <th>3</th>\n      <td>26646</td>\n      <td>26</td>\n      <td>11</td>\n      <td>4</td>\n      <td>20</td>\n      <td>10</td>\n      <td>3</td>\n      <td>5</td>\n      <td>2</td>\n      <td>2</td>\n      <td>0</td>\n      <td>4</td>\n      <td>6</td>\n      <td>30</td>\n      <td>3</td>\n      <td>53</td>\n    </tr>\n    <tr>\n      <th>4</th>\n      <td>58293</td>\n      <td>94</td>\n      <td>173</td>\n      <td>43</td>\n      <td>118</td>\n      <td>46</td>\n      <td>27</td>\n      <td>15</td>\n      <td>5</td>\n      <td>5</td>\n      <td>3</td>\n      <td>6</td>\n      <td>5</td>\n      <td>33</td>\n      <td>11</td>\n      <td>422</td>\n    </tr>\n    <tr>\n      <th>...</th>\n      <td>...</td>\n      <td>...</td>\n      <td>...</td>\n      <td>...</td>\n      <td>...</td>\n      <td>...</td>\n      <td>...</td>\n      <td>...</td>\n      <td>...</td>\n      <td>...</td>\n      <td>...</td>\n      <td>...</td>\n      <td>...</td>\n      <td>...</td>\n      <td>...</td>\n      <td>...</td>\n    </tr>\n    <tr>\n      <th>2235</th>\n      <td>61223</td>\n      <td>46</td>\n      <td>709</td>\n      <td>43</td>\n      <td>182</td>\n      <td>42</td>\n      <td>118</td>\n      <td>247</td>\n      <td>2</td>\n      <td>9</td>\n      <td>3</td>\n      <td>4</td>\n      <td>5</td>\n      <td>47</td>\n      <td>18</td>\n      <td>1341</td>\n    </tr>\n    <tr>\n      <th>2236</th>\n      <td>64014</td>\n      <td>56</td>\n      <td>406</td>\n      <td>0</td>\n      <td>30</td>\n      <td>0</td>\n      <td>0</td>\n      <td>8</td>\n      <td>7</td>\n      <td>8</td>\n      <td>2</td>\n      <td>5</td>\n      <td>7</td>\n      <td>68</td>\n      <td>3</td>\n      <td>444</td>\n    </tr>\n    <tr>\n      <th>2237</th>\n      <td>56981</td>\n      <td>91</td>\n      <td>908</td>\n      <td>48</td>\n      <td>217</td>\n      <td>32</td>\n      <td>12</td>\n      <td>24</td>\n      <td>1</td>\n      <td>2</td>\n      <td>3</td>\n      <td>13</td>\n      <td>6</td>\n      <td>33</td>\n      <td>11</td>\n      <td>1241</td>\n    </tr>\n    <tr>\n      <th>2238</th>\n      <td>69245</td>\n      <td>8</td>\n      <td>428</td>\n      <td>30</td>\n      <td>214</td>\n      <td>80</td>\n      <td>30</td>\n      <td>61</td>\n      <td>2</td>\n      <td>6</td>\n      <td>5</td>\n      <td>10</td>\n      <td>3</td>\n      <td>58</td>\n      <td>11</td>\n      <td>843</td>\n    </tr>\n    <tr>\n      <th>2239</th>\n      <td>52869</td>\n      <td>40</td>\n      <td>84</td>\n      <td>3</td>\n      <td>61</td>\n      <td>2</td>\n      <td>1</td>\n      <td>21</td>\n      <td>3</td>\n      <td>3</td>\n      <td>1</td>\n      <td>4</td>\n      <td>7</td>\n      <td>60</td>\n      <td>26</td>\n      <td>172</td>\n    </tr>\n  </tbody>\n</table>\n<p>2240 rows × 16 columns</p>\n</div>"
     },
     "execution_count": 35,
     "metadata": {},
     "output_type": "execute_result"
    }
   ],
   "source": [
    "continuous_data"
   ],
   "metadata": {
    "collapsed": false,
    "ExecuteTime": {
     "end_time": "2023-11-26T15:36:41.040126216Z",
     "start_time": "2023-11-26T15:36:40.761512086Z"
    }
   },
   "id": "ffb44fd460e16d81"
  },
  {
   "cell_type": "code",
   "execution_count": 36,
   "outputs": [],
   "source": [
    "# Remove the specific product categories\n",
    "remove_columns = ['MntWines',\n",
    "                  'MntFruits',\n",
    "                  'MntMeatProducts',\n",
    "                  'MntFishProducts',\n",
    "                  'MntSweetProducts',\n",
    "                  'MntGoldProds']\n",
    "continuous_data = continuous_data.drop(remove_columns, axis=1)"
   ],
   "metadata": {
    "collapsed": false,
    "ExecuteTime": {
     "end_time": "2023-11-26T15:36:41.040397961Z",
     "start_time": "2023-11-26T15:36:40.761685541Z"
    }
   },
   "id": "c44b644f3a124a39"
  },
  {
   "cell_type": "code",
   "execution_count": 37,
   "outputs": [],
   "source": [
    "\n",
    "# Standardize continuous features using RobustScaler\n",
    "scaler_continuous = RobustScaler()\n",
    "scaled_continuous_data = scaler_continuous.fit_transform(continuous_data)\n",
    "\n",
    "# Combined data\n",
    "final_scaled_data = np.concatenate([scaled_continuous_data, binary_ord_data], axis=1)"
   ],
   "metadata": {
    "collapsed": false,
    "ExecuteTime": {
     "end_time": "2023-11-26T15:36:41.040522778Z",
     "start_time": "2023-11-26T15:36:40.761745870Z"
    }
   },
   "id": "909d7ca839ef4072"
  },
  {
   "cell_type": "code",
   "execution_count": 38,
   "outputs": [
    {
     "data": {
      "text/plain": "array([[ 0.20272663,  0.18      ,  0.5       , ...,  0.        ,\n         1.        ,  1.        ],\n       [-0.15738451, -0.22      ,  0.        , ...,  0.        ,\n         1.        ,  0.        ],\n       [ 0.61416445, -0.46      , -0.5       , ...,  0.        ,\n         1.        ,  0.        ],\n       ...,\n       [ 0.16739947,  0.84      , -0.5       , ...,  0.        ,\n         1.        ,  1.        ],\n       [ 0.54186132, -0.82      ,  0.        , ...,  0.        ,\n         1.        ,  0.        ],\n       [ 0.04184605, -0.18      ,  0.5       , ...,  0.        ,\n         1.        ,  1.        ]])"
     },
     "execution_count": 38,
     "metadata": {},
     "output_type": "execute_result"
    }
   ],
   "source": [
    "final_scaled_data"
   ],
   "metadata": {
    "collapsed": false,
    "ExecuteTime": {
     "end_time": "2023-11-26T15:36:41.040885071Z",
     "start_time": "2023-11-26T15:36:40.761821812Z"
    }
   },
   "id": "fa371b49173032cc"
  },
  {
   "cell_type": "markdown",
   "source": [
    "## PCA"
   ],
   "metadata": {
    "collapsed": false
   },
   "id": "8f1087ae4606aa35"
  },
  {
   "cell_type": "code",
   "execution_count": 39,
   "outputs": [],
   "source": [
    "# Apply PCA\n",
    "n_components = final_scaled_data.shape[1]\n",
    "pca = PCA(n_components=n_components)\n",
    "principal_components = pca.fit_transform(final_scaled_data)"
   ],
   "metadata": {
    "collapsed": false,
    "ExecuteTime": {
     "end_time": "2023-11-26T15:36:41.042121246Z",
     "start_time": "2023-11-26T15:36:40.761888479Z"
    }
   },
   "id": "6def0a5dd960a982"
  },
  {
   "cell_type": "code",
   "execution_count": 40,
   "outputs": [
    {
     "data": {
      "text/plain": "([<matplotlib.axis.XTick at 0x7f9a8e2788e0>,\n  <matplotlib.axis.XTick at 0x7f9a8e278610>,\n  <matplotlib.axis.XTick at 0x7f9a8e24d820>,\n  <matplotlib.axis.XTick at 0x7f9a8e19ed60>,\n  <matplotlib.axis.XTick at 0x7f9a8e1aa4f0>,\n  <matplotlib.axis.XTick at 0x7f9a8e1aac70>,\n  <matplotlib.axis.XTick at 0x7f9a8e1b1400>,\n  <matplotlib.axis.XTick at 0x7f9a8e1aad60>,\n  <matplotlib.axis.XTick at 0x7f9a8e19ee50>,\n  <matplotlib.axis.XTick at 0x7f9a8e1b1d90>,\n  <matplotlib.axis.XTick at 0x7f9a8e1b8520>,\n  <matplotlib.axis.XTick at 0x7f9a8e1b8c70>,\n  <matplotlib.axis.XTick at 0x7f9a8e1be400>,\n  <matplotlib.axis.XTick at 0x7f9a8e1beb50>,\n  <matplotlib.axis.XTick at 0x7f9a8e1be3d0>,\n  <matplotlib.axis.XTick at 0x7f9a8e1b8610>,\n  <matplotlib.axis.XTick at 0x7f9a8e1c41f0>,\n  <matplotlib.axis.XTick at 0x7f9a8e1c4820>,\n  <matplotlib.axis.XTick at 0x7f9a8e1cc040>,\n  <matplotlib.axis.XTick at 0x7f9a8e1cc700>,\n  <matplotlib.axis.XTick at 0x7f9a8e1cce50>,\n  <matplotlib.axis.XTick at 0x7f9a8e1cc9a0>],\n [Text(0, 0, ''),\n  Text(0, 0, ''),\n  Text(0, 0, ''),\n  Text(0, 0, ''),\n  Text(0, 0, ''),\n  Text(0, 0, ''),\n  Text(0, 0, ''),\n  Text(0, 0, ''),\n  Text(0, 0, ''),\n  Text(0, 0, ''),\n  Text(0, 0, ''),\n  Text(0, 0, ''),\n  Text(0, 0, ''),\n  Text(0, 0, ''),\n  Text(0, 0, ''),\n  Text(0, 0, ''),\n  Text(0, 0, ''),\n  Text(0, 0, ''),\n  Text(0, 0, ''),\n  Text(0, 0, ''),\n  Text(0, 0, ''),\n  Text(0, 0, '')])"
     },
     "execution_count": 40,
     "metadata": {},
     "output_type": "execute_result"
    },
    {
     "data": {
      "text/plain": "<Figure size 640x480 with 1 Axes>",
      "image/png": "[encoded data removed]"
     },
     "metadata": {},
     "output_type": "display_data"
    }
   ],
   "source": [
    "# Plot the explained variances\n",
    "features = range(pca.n_components_)\n",
    "plt.bar(features, pca.explained_variance_ratio_, color='black')\n",
    "plt.xlabel('PCA features')\n",
    "plt.ylabel('variance %')\n",
    "plt.xticks(features)"
   ],
   "metadata": {
    "collapsed": false,
    "ExecuteTime": {
     "end_time": "2023-11-26T15:36:41.096544185Z",
     "start_time": "2023-11-26T15:36:40.805265087Z"
    }
   },
   "id": "d91abbef72ef55e7"
  },
  {
   "cell_type": "code",
   "execution_count": 41,
   "outputs": [
    {
     "data": {
      "text/plain": "<Figure size 640x480 with 1 Axes>",
      "image/png": "[encoded data removed]"
     },
     "metadata": {},
     "output_type": "display_data"
    }
   ],
   "source": [
    "# Plot explained variance ratio\n",
    "cumulative_explained_variance = pca.explained_variance_ratio_.cumsum()\n",
    "plt.plot(range(1, n_components + 1), cumulative_explained_variance, marker='o')\n",
    "plt.xlabel('Number of Components')\n",
    "plt.ylabel('Cumulative Explained Variance')\n",
    "plt.show()"
   ],
   "metadata": {
    "collapsed": false,
    "ExecuteTime": {
     "end_time": "2023-11-26T15:36:41.260380106Z",
     "start_time": "2023-11-26T15:36:41.033403319Z"
    }
   },
   "id": "1cc1ebce13bba399"
  },
  {
   "cell_type": "code",
   "execution_count": 42,
   "outputs": [
    {
     "name": "stdout",
     "output_type": "stream",
     "text": [
      "Principal Component 1 - Explained Variance: 0.2280\n",
      "Top Features: ['EducationOrdinalEncoded', 'Income', 'NumCatalogPurchases', 'TotalSpent', 'NumStorePurchases', 'NumWebPurchases', 'NumWebVisitsMonth', 'ChildrenHome', 'Age', 'AcceptedOffer', 'BuyerType_CatalogueBuyer', 'NumDealsPurchases', 'BuyerType_StoreBuyer', 'DealSeeker', 'BuyerType_MixedBuyer', 'RegencyInMonths', 'VisitedWebsiteRecently', 'BuyerType_WebBuyer', 'Recency', 'Relationship_InRelationship', 'Relationship_NotInRelationship', 'Relationship_Undefined']\n",
      "\n",
      "Principal Component 2 - Explained Variance: 0.1912\n",
      "Top Features: ['EducationOrdinalEncoded', 'NumCatalogPurchases', 'Income', 'TotalSpent', 'NumWebVisitsMonth', 'NumDealsPurchases', 'NumStorePurchases', 'ChildrenHome', 'NumWebPurchases', 'DealSeeker', 'AcceptedOffer', 'Age', 'BuyerType_CatalogueBuyer', 'RegencyInMonths', 'BuyerType_MixedBuyer', 'Recency', 'BuyerType_WebBuyer', 'Relationship_NotInRelationship', 'Relationship_InRelationship', 'BuyerType_StoreBuyer', 'VisitedWebsiteRecently', 'Relationship_Undefined']\n",
      "\n",
      "Principal Component 3 - Explained Variance: 0.1576\n",
      "Top Features: ['NumDealsPurchases', 'DealSeeker', 'NumWebPurchases', 'RegencyInMonths', 'NumWebVisitsMonth', 'EducationOrdinalEncoded', 'BuyerType_StoreBuyer', 'ChildrenHome', 'NumStorePurchases', 'BuyerType_WebBuyer', 'NumCatalogPurchases', 'TotalSpent', 'Age', 'BuyerType_MixedBuyer', 'AcceptedOffer', 'Income', 'Relationship_NotInRelationship', 'Relationship_InRelationship', 'BuyerType_CatalogueBuyer', 'Recency', 'Relationship_Undefined', 'VisitedWebsiteRecently']\n",
      "\n",
      "Principal Component 4 - Explained Variance: 0.0608\n",
      "Top Features: ['RegencyInMonths', 'NumDealsPurchases', 'Age', 'NumWebVisitsMonth', 'BuyerType_StoreBuyer', 'NumWebPurchases', 'Relationship_InRelationship', 'Relationship_NotInRelationship', 'AcceptedOffer', 'BuyerType_WebBuyer', 'Income', 'NumStorePurchases', 'DealSeeker', 'ChildrenHome', 'TotalSpent', 'BuyerType_MixedBuyer', 'EducationOrdinalEncoded', 'NumCatalogPurchases', 'BuyerType_CatalogueBuyer', 'Recency', 'VisitedWebsiteRecently', 'Relationship_Undefined']\n",
      "\n",
      "Principal Component 5 - Explained Variance: 0.0562\n",
      "Top Features: ['Relationship_InRelationship', 'Relationship_NotInRelationship', 'RegencyInMonths', 'Age', 'BuyerType_StoreBuyer', 'NumStorePurchases', 'BuyerType_MixedBuyer', 'NumDealsPurchases', 'EducationOrdinalEncoded', 'BuyerType_WebBuyer', 'TotalSpent', 'NumWebPurchases', 'NumWebVisitsMonth', 'DealSeeker', 'AcceptedOffer', 'Income', 'BuyerType_CatalogueBuyer', 'NumCatalogPurchases', 'ChildrenHome', 'Recency', 'VisitedWebsiteRecently', 'Relationship_Undefined']\n",
      "\n",
      "Principal Component 6 - Explained Variance: 0.0519\n",
      "Top Features: ['Age', 'BuyerType_StoreBuyer', 'NumWebPurchases', 'Relationship_InRelationship', 'Relationship_NotInRelationship', 'NumStorePurchases', 'BuyerType_WebBuyer', 'NumDealsPurchases', 'RegencyInMonths', 'NumWebVisitsMonth', 'BuyerType_MixedBuyer', 'NumCatalogPurchases', 'EducationOrdinalEncoded', 'Recency', 'AcceptedOffer', 'TotalSpent', 'DealSeeker', 'ChildrenHome', 'BuyerType_CatalogueBuyer', 'Income', 'VisitedWebsiteRecently', 'Relationship_Undefined']\n",
      "\n",
      "Principal Component 7 - Explained Variance: 0.0482\n",
      "Top Features: ['Age', 'RegencyInMonths', 'Recency', 'BuyerType_StoreBuyer', 'NumWebPurchases', 'NumStorePurchases', 'BuyerType_WebBuyer', 'BuyerType_MixedBuyer', 'AcceptedOffer', 'Income', 'NumDealsPurchases', 'NumCatalogPurchases', 'Relationship_NotInRelationship', 'Relationship_InRelationship', 'BuyerType_CatalogueBuyer', 'EducationOrdinalEncoded', 'DealSeeker', 'TotalSpent', 'ChildrenHome', 'NumWebVisitsMonth', 'VisitedWebsiteRecently', 'Relationship_Undefined']\n",
      "\n",
      "Principal Component 8 - Explained Variance: 0.0414\n",
      "Top Features: ['Recency', 'NumStorePurchases', 'NumCatalogPurchases', 'BuyerType_StoreBuyer', 'NumWebPurchases', 'BuyerType_CatalogueBuyer', 'NumDealsPurchases', 'BuyerType_MixedBuyer', 'Age', 'RegencyInMonths', 'NumWebVisitsMonth', 'ChildrenHome', 'Relationship_InRelationship', 'Relationship_NotInRelationship', 'AcceptedOffer', 'TotalSpent', 'EducationOrdinalEncoded', 'VisitedWebsiteRecently', 'Income', 'BuyerType_WebBuyer', 'Relationship_Undefined', 'DealSeeker']\n",
      "\n",
      "Principal Component 9 - Explained Variance: 0.0395\n",
      "Top Features: ['Recency', 'NumWebPurchases', 'NumCatalogPurchases', 'NumStorePurchases', 'BuyerType_CatalogueBuyer', 'AcceptedOffer', 'Age', 'RegencyInMonths', 'NumDealsPurchases', 'BuyerType_StoreBuyer', 'ChildrenHome', 'BuyerType_WebBuyer', 'NumWebVisitsMonth', 'BuyerType_MixedBuyer', 'Relationship_NotInRelationship', 'Relationship_InRelationship', 'TotalSpent', 'VisitedWebsiteRecently', 'Income', 'EducationOrdinalEncoded', 'DealSeeker', 'Relationship_Undefined']\n",
      "\n",
      "Principal Component 10 - Explained Variance: 0.0294\n",
      "Top Features: ['Income', 'NumCatalogPurchases', 'RegencyInMonths', 'NumStorePurchases', 'ChildrenHome', 'TotalSpent', 'AcceptedOffer', 'NumWebPurchases', 'BuyerType_MixedBuyer', 'Age', 'BuyerType_StoreBuyer', 'BuyerType_CatalogueBuyer', 'Relationship_NotInRelationship', 'Relationship_InRelationship', 'BuyerType_WebBuyer', 'VisitedWebsiteRecently', 'DealSeeker', 'EducationOrdinalEncoded', 'NumDealsPurchases', 'Recency', 'NumWebVisitsMonth', 'Relationship_Undefined']\n",
      "\n",
      "Principal Component 11 - Explained Variance: 0.0212\n",
      "Top Features: ['AcceptedOffer', 'NumWebVisitsMonth', 'NumCatalogPurchases', 'BuyerType_StoreBuyer', 'TotalSpent', 'NumWebPurchases', 'Recency', 'Income', 'RegencyInMonths', 'BuyerType_CatalogueBuyer', 'ChildrenHome', 'BuyerType_MixedBuyer', 'Age', 'NumDealsPurchases', 'Relationship_InRelationship', 'Relationship_NotInRelationship', 'EducationOrdinalEncoded', 'VisitedWebsiteRecently', 'DealSeeker', 'NumStorePurchases', 'BuyerType_WebBuyer', 'Relationship_Undefined']\n",
      "\n",
      "Principal Component 12 - Explained Variance: 0.0178\n",
      "Top Features: ['BuyerType_MixedBuyer', 'BuyerType_WebBuyer', 'NumStorePurchases', 'BuyerType_StoreBuyer', 'NumWebVisitsMonth', 'NumWebPurchases', 'BuyerType_CatalogueBuyer', 'NumDealsPurchases', 'DealSeeker', 'RegencyInMonths', 'NumCatalogPurchases', 'Age', 'TotalSpent', 'Income', 'ChildrenHome', 'AcceptedOffer', 'Relationship_InRelationship', 'Relationship_NotInRelationship', 'VisitedWebsiteRecently', 'EducationOrdinalEncoded', 'Relationship_Undefined', 'Recency']\n",
      "\n",
      "Principal Component 13 - Explained Variance: 0.0151\n",
      "Top Features: ['ChildrenHome', 'NumWebVisitsMonth', 'NumCatalogPurchases', 'BuyerType_MixedBuyer', 'NumDealsPurchases', 'BuyerType_StoreBuyer', 'BuyerType_CatalogueBuyer', 'RegencyInMonths', 'Income', 'DealSeeker', 'BuyerType_WebBuyer', 'AcceptedOffer', 'NumStorePurchases', 'NumWebPurchases', 'Relationship_NotInRelationship', 'Relationship_InRelationship', 'VisitedWebsiteRecently', 'Recency', 'Age', 'EducationOrdinalEncoded', 'Relationship_Undefined', 'TotalSpent']\n",
      "\n",
      "Principal Component 14 - Explained Variance: 0.0128\n",
      "Top Features: ['ChildrenHome', 'NumWebVisitsMonth', 'AcceptedOffer', 'DealSeeker', 'NumDealsPurchases', 'TotalSpent', 'RegencyInMonths', 'Income', 'BuyerType_MixedBuyer', 'NumWebPurchases', 'BuyerType_WebBuyer', 'NumCatalogPurchases', 'Age', 'BuyerType_StoreBuyer', 'Recency', 'NumStorePurchases', 'VisitedWebsiteRecently', 'BuyerType_CatalogueBuyer', 'EducationOrdinalEncoded', 'Relationship_Undefined', 'Relationship_InRelationship', 'Relationship_NotInRelationship']\n",
      "\n",
      "Principal Component 15 - Explained Variance: 0.0089\n",
      "Top Features: ['DealSeeker', 'NumDealsPurchases', 'NumWebPurchases', 'BuyerType_WebBuyer', 'NumStorePurchases', 'NumWebVisitsMonth', 'AcceptedOffer', 'BuyerType_StoreBuyer', 'BuyerType_MixedBuyer', 'ChildrenHome', 'TotalSpent', 'RegencyInMonths', 'Income', 'Recency', 'VisitedWebsiteRecently', 'Relationship_NotInRelationship', 'Relationship_Undefined', 'BuyerType_CatalogueBuyer', 'Age', 'NumCatalogPurchases', 'Relationship_InRelationship', 'EducationOrdinalEncoded']\n",
      "\n",
      "Principal Component 16 - Explained Variance: 0.0076\n",
      "Top Features: ['BuyerType_WebBuyer', 'NumWebPurchases', 'DealSeeker', 'NumStorePurchases', 'BuyerType_StoreBuyer', 'ChildrenHome', 'BuyerType_CatalogueBuyer', 'TotalSpent', 'NumDealsPurchases', 'NumWebVisitsMonth', 'NumCatalogPurchases', 'Income', 'BuyerType_MixedBuyer', 'RegencyInMonths', 'Age', 'AcceptedOffer', 'Relationship_InRelationship', 'EducationOrdinalEncoded', 'Relationship_NotInRelationship', 'Recency', 'VisitedWebsiteRecently', 'Relationship_Undefined']\n",
      "\n",
      "Principal Component 17 - Explained Variance: 0.0070\n",
      "Top Features: ['TotalSpent', 'NumStorePurchases', 'NumCatalogPurchases', 'ChildrenHome', 'AcceptedOffer', 'BuyerType_WebBuyer', 'Income', 'BuyerType_CatalogueBuyer', 'NumWebVisitsMonth', 'BuyerType_StoreBuyer', 'DealSeeker', 'Recency', 'BuyerType_MixedBuyer', 'RegencyInMonths', 'Age', 'NumDealsPurchases', 'VisitedWebsiteRecently', 'Relationship_NotInRelationship', 'Relationship_Undefined', 'NumWebPurchases', 'EducationOrdinalEncoded', 'Relationship_InRelationship']\n",
      "\n",
      "Principal Component 18 - Explained Variance: 0.0044\n",
      "Top Features: ['BuyerType_CatalogueBuyer', 'NumCatalogPurchases', 'BuyerType_StoreBuyer', 'NumStorePurchases', 'BuyerType_MixedBuyer', 'BuyerType_WebBuyer', 'TotalSpent', 'DealSeeker', 'AcceptedOffer', 'VisitedWebsiteRecently', 'NumDealsPurchases', 'NumWebPurchases', 'Age', 'Income', 'Recency', 'Relationship_NotInRelationship', 'NumWebVisitsMonth', 'ChildrenHome', 'RegencyInMonths', 'Relationship_Undefined', 'Relationship_InRelationship', 'EducationOrdinalEncoded']\n",
      "\n",
      "Principal Component 19 - Explained Variance: 0.0006\n",
      "Top Features: ['VisitedWebsiteRecently', 'BuyerType_CatalogueBuyer', 'NumWebVisitsMonth', 'NumStorePurchases', 'NumCatalogPurchases', 'Relationship_Undefined', 'Income', 'NumDealsPurchases', 'BuyerType_MixedBuyer', 'ChildrenHome', 'TotalSpent', 'AcceptedOffer', 'BuyerType_WebBuyer', 'Relationship_InRelationship', 'DealSeeker', 'Relationship_NotInRelationship', 'NumWebPurchases', 'EducationOrdinalEncoded', 'RegencyInMonths', 'Recency', 'BuyerType_StoreBuyer', 'Age']\n",
      "\n",
      "Principal Component 20 - Explained Variance: 0.0003\n",
      "Top Features: ['Relationship_Undefined', 'Relationship_NotInRelationship', 'Relationship_InRelationship', 'VisitedWebsiteRecently', 'DealSeeker', 'BuyerType_CatalogueBuyer', 'BuyerType_StoreBuyer', 'BuyerType_MixedBuyer', 'BuyerType_WebBuyer', 'ChildrenHome', 'TotalSpent', 'NumWebVisitsMonth', 'Age', 'Recency', 'NumStorePurchases', 'NumWebPurchases', 'EducationOrdinalEncoded', 'AcceptedOffer', 'RegencyInMonths', 'Income', 'NumCatalogPurchases', 'NumDealsPurchases']\n",
      "\n",
      "Principal Component 21 - Explained Variance: 0.0000\n",
      "Top Features: ['Relationship_NotInRelationship', 'Relationship_Undefined', 'Relationship_InRelationship', 'BuyerType_CatalogueBuyer', 'BuyerType_WebBuyer', 'BuyerType_StoreBuyer', 'BuyerType_MixedBuyer', 'VisitedWebsiteRecently', 'ChildrenHome', 'NumStorePurchases', 'Recency', 'Age', 'TotalSpent', 'NumDealsPurchases', 'NumWebPurchases', 'DealSeeker', 'AcceptedOffer', 'NumWebVisitsMonth', 'Income', 'RegencyInMonths', 'NumCatalogPurchases', 'EducationOrdinalEncoded']\n",
      "\n",
      "Principal Component 22 - Explained Variance: 0.0000\n",
      "Top Features: ['BuyerType_MixedBuyer', 'BuyerType_StoreBuyer', 'BuyerType_WebBuyer', 'BuyerType_CatalogueBuyer', 'Relationship_NotInRelationship', 'Relationship_Undefined', 'Relationship_InRelationship', 'ChildrenHome', 'NumWebVisitsMonth', 'Recency', 'NumStorePurchases', 'NumCatalogPurchases', 'DealSeeker', 'VisitedWebsiteRecently', 'TotalSpent', 'RegencyInMonths', 'NumWebPurchases', 'Age', 'NumDealsPurchases', 'Income', 'AcceptedOffer', 'EducationOrdinalEncoded']\n"
     ]
    }
   ],
   "source": [
    "# Get feature names\n",
    "feature_names = [i for i in continuous_features if i not in remove_columns] + list(binary_ord_data.columns)\n",
    "\n",
    "# Loop through each principal component and find the most important features\n",
    "for i, component in enumerate(pca.components_[:n_components]):\n",
    "    # Sort the indices of features based on their absolute weights in the component\n",
    "    top_feature_indices = np.argsort(np.abs(component))[::-1]\n",
    "\n",
    "    # Get the names of the top features\n",
    "    top_feature_names = [feature_names[idx] for idx in top_feature_indices]\n",
    "\n",
    "    print(f\"Principal Component {i+1} - Explained Variance: {pca.explained_variance_ratio_[i]:.4f}\")\n",
    "    print(\"Top Features:\", top_feature_names)\n",
    "    print()"
   ],
   "metadata": {
    "collapsed": false,
    "ExecuteTime": {
     "end_time": "2023-11-26T15:36:41.260758294Z",
     "start_time": "2023-11-26T15:36:41.152003201Z"
    }
   },
   "id": "4c022240c0b2f1eb"
  },
  {
   "cell_type": "code",
   "execution_count": 43,
   "outputs": [],
   "source": [
    "# Select the Number of Components\n",
    "threshold = 0.80  # 80% of the variance will be maintained \n",
    "selected_components = np.argmax(cumulative_explained_variance >= threshold) + 1"
   ],
   "metadata": {
    "collapsed": false,
    "ExecuteTime": {
     "end_time": "2023-11-26T15:36:41.260848197Z",
     "start_time": "2023-11-26T15:36:41.193382479Z"
    }
   },
   "id": "b0eee045df8824d3"
  },
  {
   "cell_type": "code",
   "execution_count": 44,
   "outputs": [
    {
     "name": "stdout",
     "output_type": "stream",
     "text": [
      "8\n"
     ]
    }
   ],
   "source": [
    "print(selected_components)"
   ],
   "metadata": {
    "collapsed": false,
    "ExecuteTime": {
     "end_time": "2023-11-26T15:36:41.261012495Z",
     "start_time": "2023-11-26T15:36:41.193533961Z"
    }
   },
   "id": "c4d537343fea025c"
  },
  {
   "cell_type": "markdown",
   "source": [],
   "metadata": {
    "collapsed": false
   },
   "id": "620c25eda501d42a"
  }
 ],
 "metadata": {
  "kernelspec": {
   "display_name": "Python 3",
   "language": "python",
   "name": "python3"
  },
  "language_info": {
   "codemirror_mode": {
    "name": "ipython",
    "version": 2
   },
   "file_extension": ".py",
   "mimetype": "text/x-python",
   "name": "python",
   "nbconvert_exporter": "python",
   "pygments_lexer": "ipython2",
   "version": "2.7.6"
  }
 },
 "nbformat": 4,
 "nbformat_minor": 5
}
